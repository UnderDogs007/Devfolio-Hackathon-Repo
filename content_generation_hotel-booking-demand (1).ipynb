{
  "cells": [
    {
      "cell_type": "markdown",
      "source": [
        "# Installation"
      ],
      "metadata": {
        "id": "ESWlXLaabaK2"
      },
      "id": "ESWlXLaabaK2"
    },
    {
      "cell_type": "code",
      "source": [
        "!pip install google-cloud-storage"
      ],
      "metadata": {
        "colab": {
          "base_uri": "https://localhost:8080/"
        },
        "id": "vBnixW24nEbI",
        "executionInfo": {
          "status": "ok",
          "timestamp": 1727779843083,
          "user_tz": -330,
          "elapsed": 4710,
          "user": {
            "displayName": "",
            "userId": ""
          }
        },
        "outputId": "436601a1-b88c-49ad-ebd0-c57b8619cf0e",
        "collapsed": true
      },
      "id": "vBnixW24nEbI",
      "execution_count": null,
      "outputs": [
        {
          "output_type": "stream",
          "name": "stdout",
          "text": [
            "Requirement already satisfied: google-cloud-storage in /usr/local/lib/python3.10/dist-packages (2.8.0)\n",
            "Requirement already satisfied: google-auth<3.0dev,>=1.25.0 in /usr/local/lib/python3.10/dist-packages (from google-cloud-storage) (2.27.0)\n",
            "Requirement already satisfied: google-api-core!=2.0.*,!=2.1.*,!=2.2.*,!=2.3.0,<3.0.0dev,>=1.31.5 in /usr/local/lib/python3.10/dist-packages (from google-cloud-storage) (2.19.2)\n",
            "Requirement already satisfied: google-cloud-core<3.0dev,>=2.3.0 in /usr/local/lib/python3.10/dist-packages (from google-cloud-storage) (2.4.1)\n",
            "Requirement already satisfied: google-resumable-media>=2.3.2 in /usr/local/lib/python3.10/dist-packages (from google-cloud-storage) (2.7.2)\n",
            "Requirement already satisfied: requests<3.0.0dev,>=2.18.0 in /usr/local/lib/python3.10/dist-packages (from google-cloud-storage) (2.32.3)\n",
            "Requirement already satisfied: googleapis-common-protos<2.0.dev0,>=1.56.2 in /usr/local/lib/python3.10/dist-packages (from google-api-core!=2.0.*,!=2.1.*,!=2.2.*,!=2.3.0,<3.0.0dev,>=1.31.5->google-cloud-storage) (1.65.0)\n",
            "Requirement already satisfied: protobuf!=3.20.0,!=3.20.1,!=4.21.0,!=4.21.1,!=4.21.2,!=4.21.3,!=4.21.4,!=4.21.5,<6.0.0.dev0,>=3.19.5 in /usr/local/lib/python3.10/dist-packages (from google-api-core!=2.0.*,!=2.1.*,!=2.2.*,!=2.3.0,<3.0.0dev,>=1.31.5->google-cloud-storage) (3.20.3)\n",
            "Requirement already satisfied: proto-plus<2.0.0dev,>=1.22.3 in /usr/local/lib/python3.10/dist-packages (from google-api-core!=2.0.*,!=2.1.*,!=2.2.*,!=2.3.0,<3.0.0dev,>=1.31.5->google-cloud-storage) (1.24.0)\n",
            "Requirement already satisfied: cachetools<6.0,>=2.0.0 in /usr/local/lib/python3.10/dist-packages (from google-auth<3.0dev,>=1.25.0->google-cloud-storage) (5.5.0)\n",
            "Requirement already satisfied: pyasn1-modules>=0.2.1 in /usr/local/lib/python3.10/dist-packages (from google-auth<3.0dev,>=1.25.0->google-cloud-storage) (0.4.1)\n",
            "Requirement already satisfied: rsa<5,>=3.1.4 in /usr/local/lib/python3.10/dist-packages (from google-auth<3.0dev,>=1.25.0->google-cloud-storage) (4.9)\n",
            "Requirement already satisfied: google-crc32c<2.0dev,>=1.0 in /usr/local/lib/python3.10/dist-packages (from google-resumable-media>=2.3.2->google-cloud-storage) (1.6.0)\n",
            "Requirement already satisfied: charset-normalizer<4,>=2 in /usr/local/lib/python3.10/dist-packages (from requests<3.0.0dev,>=2.18.0->google-cloud-storage) (3.3.2)\n",
            "Requirement already satisfied: idna<4,>=2.5 in /usr/local/lib/python3.10/dist-packages (from requests<3.0.0dev,>=2.18.0->google-cloud-storage) (3.10)\n",
            "Requirement already satisfied: urllib3<3,>=1.21.1 in /usr/local/lib/python3.10/dist-packages (from requests<3.0.0dev,>=2.18.0->google-cloud-storage) (2.0.7)\n",
            "Requirement already satisfied: certifi>=2017.4.17 in /usr/local/lib/python3.10/dist-packages (from requests<3.0.0dev,>=2.18.0->google-cloud-storage) (2024.8.30)\n",
            "Requirement already satisfied: pyasn1<0.7.0,>=0.4.6 in /usr/local/lib/python3.10/dist-packages (from pyasn1-modules>=0.2.1->google-auth<3.0dev,>=1.25.0->google-cloud-storage) (0.6.1)\n"
          ]
        }
      ]
    },
    {
      "cell_type": "code",
      "source": [
        "!pip install gradio"
      ],
      "metadata": {
        "colab": {
          "base_uri": "https://localhost:8080/"
        },
        "id": "Qz9QuQ04bf0c",
        "executionInfo": {
          "status": "ok",
          "timestamp": 1727779848091,
          "user_tz": -330,
          "elapsed": 5011,
          "user": {
            "displayName": "",
            "userId": ""
          }
        },
        "outputId": "e5e1a081-4dce-4a45-958e-998dfcd2f710",
        "collapsed": true
      },
      "id": "Qz9QuQ04bf0c",
      "execution_count": null,
      "outputs": [
        {
          "output_type": "stream",
          "name": "stdout",
          "text": [
            "Requirement already satisfied: gradio in /usr/local/lib/python3.10/dist-packages (4.44.1)\n",
            "Requirement already satisfied: aiofiles<24.0,>=22.0 in /usr/local/lib/python3.10/dist-packages (from gradio) (23.2.1)\n",
            "Requirement already satisfied: anyio<5.0,>=3.0 in /usr/local/lib/python3.10/dist-packages (from gradio) (3.7.1)\n",
            "Requirement already satisfied: fastapi<1.0 in /usr/local/lib/python3.10/dist-packages (from gradio) (0.115.0)\n",
            "Requirement already satisfied: ffmpy in /usr/local/lib/python3.10/dist-packages (from gradio) (0.4.0)\n",
            "Requirement already satisfied: gradio-client==1.3.0 in /usr/local/lib/python3.10/dist-packages (from gradio) (1.3.0)\n",
            "Requirement already satisfied: httpx>=0.24.1 in /usr/local/lib/python3.10/dist-packages (from gradio) (0.27.2)\n",
            "Requirement already satisfied: huggingface-hub>=0.19.3 in /usr/local/lib/python3.10/dist-packages (from gradio) (0.24.7)\n",
            "Requirement already satisfied: importlib-resources<7.0,>=1.3 in /usr/local/lib/python3.10/dist-packages (from gradio) (6.4.5)\n",
            "Requirement already satisfied: jinja2<4.0 in /usr/local/lib/python3.10/dist-packages (from gradio) (3.1.4)\n",
            "Requirement already satisfied: markupsafe~=2.0 in /usr/local/lib/python3.10/dist-packages (from gradio) (2.1.5)\n",
            "Requirement already satisfied: matplotlib~=3.0 in /usr/local/lib/python3.10/dist-packages (from gradio) (3.7.1)\n",
            "Requirement already satisfied: numpy<3.0,>=1.0 in /usr/local/lib/python3.10/dist-packages (from gradio) (1.26.4)\n",
            "Requirement already satisfied: orjson~=3.0 in /usr/local/lib/python3.10/dist-packages (from gradio) (3.10.7)\n",
            "Requirement already satisfied: packaging in /usr/local/lib/python3.10/dist-packages (from gradio) (24.1)\n",
            "Requirement already satisfied: pandas<3.0,>=1.0 in /usr/local/lib/python3.10/dist-packages (from gradio) (2.1.4)\n",
            "Requirement already satisfied: pillow<11.0,>=8.0 in /usr/local/lib/python3.10/dist-packages (from gradio) (10.4.0)\n",
            "Requirement already satisfied: pydantic>=2.0 in /usr/local/lib/python3.10/dist-packages (from gradio) (2.9.2)\n",
            "Requirement already satisfied: pydub in /usr/local/lib/python3.10/dist-packages (from gradio) (0.25.1)\n",
            "Requirement already satisfied: python-multipart>=0.0.9 in /usr/local/lib/python3.10/dist-packages (from gradio) (0.0.12)\n",
            "Requirement already satisfied: pyyaml<7.0,>=5.0 in /usr/local/lib/python3.10/dist-packages (from gradio) (6.0.2)\n",
            "Requirement already satisfied: ruff>=0.2.2 in /usr/local/lib/python3.10/dist-packages (from gradio) (0.6.8)\n",
            "Requirement already satisfied: semantic-version~=2.0 in /usr/local/lib/python3.10/dist-packages (from gradio) (2.10.0)\n",
            "Requirement already satisfied: tomlkit==0.12.0 in /usr/local/lib/python3.10/dist-packages (from gradio) (0.12.0)\n",
            "Requirement already satisfied: typer<1.0,>=0.12 in /usr/local/lib/python3.10/dist-packages (from gradio) (0.12.5)\n",
            "Requirement already satisfied: typing-extensions~=4.0 in /usr/local/lib/python3.10/dist-packages (from gradio) (4.12.2)\n",
            "Requirement already satisfied: urllib3~=2.0 in /usr/local/lib/python3.10/dist-packages (from gradio) (2.0.7)\n",
            "Requirement already satisfied: uvicorn>=0.14.0 in /usr/local/lib/python3.10/dist-packages (from gradio) (0.31.0)\n",
            "Requirement already satisfied: fsspec in /usr/local/lib/python3.10/dist-packages (from gradio-client==1.3.0->gradio) (2024.6.1)\n",
            "Requirement already satisfied: websockets<13.0,>=10.0 in /usr/local/lib/python3.10/dist-packages (from gradio-client==1.3.0->gradio) (12.0)\n",
            "Requirement already satisfied: idna>=2.8 in /usr/local/lib/python3.10/dist-packages (from anyio<5.0,>=3.0->gradio) (3.10)\n",
            "Requirement already satisfied: sniffio>=1.1 in /usr/local/lib/python3.10/dist-packages (from anyio<5.0,>=3.0->gradio) (1.3.1)\n",
            "Requirement already satisfied: exceptiongroup in /usr/local/lib/python3.10/dist-packages (from anyio<5.0,>=3.0->gradio) (1.2.2)\n",
            "Requirement already satisfied: starlette<0.39.0,>=0.37.2 in /usr/local/lib/python3.10/dist-packages (from fastapi<1.0->gradio) (0.38.6)\n",
            "Requirement already satisfied: certifi in /usr/local/lib/python3.10/dist-packages (from httpx>=0.24.1->gradio) (2024.8.30)\n",
            "Requirement already satisfied: httpcore==1.* in /usr/local/lib/python3.10/dist-packages (from httpx>=0.24.1->gradio) (1.0.5)\n",
            "Requirement already satisfied: h11<0.15,>=0.13 in /usr/local/lib/python3.10/dist-packages (from httpcore==1.*->httpx>=0.24.1->gradio) (0.14.0)\n",
            "Requirement already satisfied: filelock in /usr/local/lib/python3.10/dist-packages (from huggingface-hub>=0.19.3->gradio) (3.16.0)\n",
            "Requirement already satisfied: requests in /usr/local/lib/python3.10/dist-packages (from huggingface-hub>=0.19.3->gradio) (2.32.3)\n",
            "Requirement already satisfied: tqdm>=4.42.1 in /usr/local/lib/python3.10/dist-packages (from huggingface-hub>=0.19.3->gradio) (4.66.5)\n",
            "Requirement already satisfied: contourpy>=1.0.1 in /usr/local/lib/python3.10/dist-packages (from matplotlib~=3.0->gradio) (1.3.0)\n",
            "Requirement already satisfied: cycler>=0.10 in /usr/local/lib/python3.10/dist-packages (from matplotlib~=3.0->gradio) (0.12.1)\n",
            "Requirement already satisfied: fonttools>=4.22.0 in /usr/local/lib/python3.10/dist-packages (from matplotlib~=3.0->gradio) (4.53.1)\n",
            "Requirement already satisfied: kiwisolver>=1.0.1 in /usr/local/lib/python3.10/dist-packages (from matplotlib~=3.0->gradio) (1.4.7)\n",
            "Requirement already satisfied: pyparsing>=2.3.1 in /usr/local/lib/python3.10/dist-packages (from matplotlib~=3.0->gradio) (3.1.4)\n",
            "Requirement already satisfied: python-dateutil>=2.7 in /usr/local/lib/python3.10/dist-packages (from matplotlib~=3.0->gradio) (2.8.2)\n",
            "Requirement already satisfied: pytz>=2020.1 in /usr/local/lib/python3.10/dist-packages (from pandas<3.0,>=1.0->gradio) (2024.2)\n",
            "Requirement already satisfied: tzdata>=2022.1 in /usr/local/lib/python3.10/dist-packages (from pandas<3.0,>=1.0->gradio) (2024.1)\n",
            "Requirement already satisfied: annotated-types>=0.6.0 in /usr/local/lib/python3.10/dist-packages (from pydantic>=2.0->gradio) (0.7.0)\n",
            "Requirement already satisfied: pydantic-core==2.23.4 in /usr/local/lib/python3.10/dist-packages (from pydantic>=2.0->gradio) (2.23.4)\n",
            "Requirement already satisfied: click>=8.0.0 in /usr/local/lib/python3.10/dist-packages (from typer<1.0,>=0.12->gradio) (8.1.7)\n",
            "Requirement already satisfied: shellingham>=1.3.0 in /usr/local/lib/python3.10/dist-packages (from typer<1.0,>=0.12->gradio) (1.5.4)\n",
            "Requirement already satisfied: rich>=10.11.0 in /usr/local/lib/python3.10/dist-packages (from typer<1.0,>=0.12->gradio) (13.8.1)\n",
            "Requirement already satisfied: six>=1.5 in /usr/local/lib/python3.10/dist-packages (from python-dateutil>=2.7->matplotlib~=3.0->gradio) (1.16.0)\n",
            "Requirement already satisfied: markdown-it-py>=2.2.0 in /usr/local/lib/python3.10/dist-packages (from rich>=10.11.0->typer<1.0,>=0.12->gradio) (3.0.0)\n",
            "Requirement already satisfied: pygments<3.0.0,>=2.13.0 in /usr/local/lib/python3.10/dist-packages (from rich>=10.11.0->typer<1.0,>=0.12->gradio) (2.18.0)\n",
            "Requirement already satisfied: charset-normalizer<4,>=2 in /usr/local/lib/python3.10/dist-packages (from requests->huggingface-hub>=0.19.3->gradio) (3.3.2)\n",
            "Requirement already satisfied: mdurl~=0.1 in /usr/local/lib/python3.10/dist-packages (from markdown-it-py>=2.2.0->rich>=10.11.0->typer<1.0,>=0.12->gradio) (0.1.2)\n"
          ]
        }
      ]
    },
    {
      "cell_type": "markdown",
      "source": [
        "# End to End Flow"
      ],
      "metadata": {
        "id": "7NKechgrbgdc"
      },
      "id": "7NKechgrbgdc"
    },
    {
      "cell_type": "code",
      "id": "cUVqb8CUvoSy7ZHN7dM6Ew5j",
      "metadata": {
        "tags": [],
        "id": "cUVqb8CUvoSy7ZHN7dM6Ew5j"
      },
      "source": [
        "import joblib"
      ],
      "execution_count": null,
      "outputs": []
    },
    {
      "cell_type": "markdown",
      "source": [
        "Bucket Name"
      ],
      "metadata": {
        "id": "FycX1po3sqL-"
      },
      "id": "FycX1po3sqL-"
    },
    {
      "cell_type": "code",
      "source": [
        "# @title\n",
        "bucket_name = \"devfolio\""
      ],
      "metadata": {
        "id": "yERxDBmmsntR"
      },
      "id": "yERxDBmmsntR",
      "execution_count": null,
      "outputs": []
    },
    {
      "cell_type": "markdown",
      "source": [
        "### Importing Model from the bucket."
      ],
      "metadata": {
        "id": "HTW01QNYQKQ8"
      },
      "id": "HTW01QNYQKQ8"
    },
    {
      "cell_type": "code",
      "source": [
        "#Read Model from the bucket\n",
        "from io import BytesIO\n",
        "import joblib\n",
        "from google.cloud import storage\n",
        "storage_client = storage.Client()\n",
        "\n",
        "\n",
        "bucket = storage_client.get_bucket(bucket_name)\n",
        "blob = bucket.get_blob('prophet_model.joblib')\n",
        "\n",
        "model_bytes = blob.download_as_bytes()"
      ],
      "metadata": {
        "id": "09fuUWJHpNNn"
      },
      "id": "09fuUWJHpNNn",
      "execution_count": null,
      "outputs": []
    },
    {
      "cell_type": "code",
      "source": [
        "# @title\n",
        "#model = joblib.load('prophet_model.joblib')"
      ],
      "metadata": {
        "id": "EUNfFvl-a4cT",
        "cellView": "form"
      },
      "id": "EUNfFvl-a4cT",
      "execution_count": null,
      "outputs": []
    },
    {
      "cell_type": "code",
      "source": [
        "model_bytes_io = BytesIO(model_bytes)\n",
        "model = joblib.load(model_bytes_io)"
      ],
      "metadata": {
        "id": "t23suedvToH9"
      },
      "id": "t23suedvToH9",
      "execution_count": null,
      "outputs": []
    },
    {
      "cell_type": "markdown",
      "source": [
        "### Using the prophet model to predict for the succeeding month (30 days)"
      ],
      "metadata": {
        "id": "yeNSY6pARx9H"
      },
      "id": "yeNSY6pARx9H"
    },
    {
      "cell_type": "code",
      "source": [
        "forecast = model.make_future_dataframe(periods=31)\n",
        "pred = model.predict(forecast)"
      ],
      "metadata": {
        "id": "TPZovpSVa9dQ"
      },
      "id": "TPZovpSVa9dQ",
      "execution_count": null,
      "outputs": []
    },
    {
      "cell_type": "markdown",
      "source": [
        "### Generating the  campagin content using Gemini.\n",
        "\n",
        "- The  generative model used is gemini-1.5-flash-001.\n",
        "\n",
        "- Creates an instance of the GenerativeModel class with the specified model name and system instruction. The instruction sets the context for the model, making it act as a hotel marketing specialist."
      ],
      "metadata": {
        "id": "Y5skSfWCSKZf"
      },
      "id": "Y5skSfWCSKZf"
    },
    {
      "cell_type": "code",
      "source": [
        "import base64\n",
        "import vertexai\n",
        "from vertexai.generative_models import GenerativeModel, Part, SafetySetting\n",
        "\n",
        "# Function to generate content based on input text\n",
        "def generate(text):\n",
        "    # Initialize Vertex AI with the specified project and location\n",
        "    vertexai.init(project=\"c***\", location=\"us-central1\")\n",
        "    model = GenerativeModel(\n",
        "        \"gemini-1.5-flash-001\",\n",
        "        system_instruction=[\"\"\"You are a personalized Hotel Marketing Specialist that boost hotel occupancy.\"\"\"]\n",
        "    )\n",
        "    generation_config = {\n",
        "        \"max_output_tokens\": 8192,\n",
        "        \"temperature\": 0.1,\n",
        "        \"top_p\": 0.95,\n",
        "    }\n",
        "\n",
        "    # Define safety settings to filter out harmful content\n",
        "    safety_settings = [\n",
        "        SafetySetting(\n",
        "            category=SafetySetting.HarmCategory.HARM_CATEGORY_HATE_SPEECH,\n",
        "            threshold=SafetySetting.HarmBlockThreshold.BLOCK_ONLY_HIGH\n",
        "        ),\n",
        "        SafetySetting(\n",
        "            category=SafetySetting.HarmCategory.HARM_CATEGORY_DANGEROUS_CONTENT,\n",
        "            threshold=SafetySetting.HarmBlockThreshold.BLOCK_ONLY_HIGH\n",
        "        ),\n",
        "        SafetySetting(\n",
        "            category=SafetySetting.HarmCategory.HARM_CATEGORY_SEXUALLY_EXPLICIT,\n",
        "            threshold=SafetySetting.HarmBlockThreshold.BLOCK_ONLY_HIGH\n",
        "        ),\n",
        "        SafetySetting(\n",
        "            category=SafetySetting.HarmCategory.HARM_CATEGORY_HARASSMENT,\n",
        "            threshold=SafetySetting.HarmBlockThreshold.BLOCK_ONLY_HIGH\n",
        "        ),\n",
        "    ]\n",
        "\n",
        "     # Generate content based on the input text using the specified configuration and safety settings\n",
        "    responses = model.generate_content(\n",
        "        [text],\n",
        "        generation_config=generation_config,\n",
        "        safety_settings=safety_settings,\n",
        "        stream=True, # Indicates that the content is generated in a streaming manner\n",
        "    )\n",
        "    # Process the generated responses\n",
        "    str_res = []\n",
        "    for response in responses:\n",
        "        str_res.append(response.text) # Append each response text to the list\n",
        "    str_res = ' '.join(str_res) # Join all responses into a single string\n",
        "    return str_res"
      ],
      "metadata": {
        "id": "1Me7AbGtfrZK"
      },
      "id": "1Me7AbGtfrZK",
      "execution_count": null,
      "outputs": []
    },
    {
      "cell_type": "markdown",
      "source": [
        "### Creating an Gradio interface.\n",
        "\n",
        "- we set up a web interface where users can select a customer type and generate either an email campaign or a social media post to promote the hotel during periods of historically low bookings."
      ],
      "metadata": {
        "id": "m53PVcmZZSJo"
      },
      "id": "m53PVcmZZSJo"
    },
    {
      "cell_type": "code",
      "source": [
        "import gradio as gr\n",
        "import joblib\n",
        "from io import BytesIO\n",
        "\n",
        "# Average number of rooms booked\n",
        "#average_rooms_bkd = 37\n",
        "\n",
        "# Load the model\n",
        "#model = joblib.load('prophet_model.joblib')\n",
        "\n",
        "# Hotel features\n",
        "hotel_feat = {\n",
        "    \"Hotel name\": \"Stark Tower Hotel and Resorts\",\n",
        "    \"Location\": \"Goa, India\",\n",
        "    \"Key Features\": [\"Ocean-view rooms\", \"High-speed Wi-Fi in all rooms\",\n",
        "                     \"Business lounge with meeting facilities\", \"Spa and wellness center\",\n",
        "                     \"Outdoor pool and kid's play area\",\n",
        "                     \"Proximity to major attractions (e.g., local beaches, historic sites)\",\n",
        "                     \"On-site restaurant offering local and international cuisines\",\n",
        "                     \"Complimentary airport shuttle\"]\n",
        "}\n",
        "\n",
        "# Function to create email campaign\n",
        "def create_email_campaign(customer_type):\n",
        "    # Generate a forecast for the next 31 days\n",
        "    forecast = model.make_future_dataframe(periods=31)\n",
        "    pred = model.predict(forecast)\n",
        "    #print(pred)\n",
        "\n",
        "    # Calculate the average predicted rooms booked over the forecast period\n",
        "    pred_avrg_rooms = sum(pred['yhat'][-31:]) / len(pred['yhat'][-31:])\n",
        "    #print(pred_avrg_rooms)\n",
        "\n",
        "    # Calculate the percentage difference from the historical average\n",
        "    avrg_percentage = (pred_avrg_rooms - average_rooms_bkd) / average_rooms_bkd\n",
        "    #print(avrg_percentage)\n",
        "\n",
        "    # Identify dates with lower-than-average bookings\n",
        "    less_booking = pred['ds'][-31:][pred['yhat'][-31:] < 36.5].tolist()\n",
        "    date_strings = [ts.strftime('%Y-%m-%d') for ts in less_booking]\n",
        "    #print(date_strings)\n",
        "\n",
        "    # Craft the email content based on the customer type\n",
        "    if customer_type == 'Family':\n",
        "        text = f\"\"\"As an expert email marketer, craft a compelling email targeting families to promote our hotel during the dates of {date_strings}. These dates historically have lower-than-average occupancy. Highlight the following hotel features: {hotel_feat}. Develop attractive offers to boost bookings, incorporating any relevant local holidays or events to increase occupancy during this traditionally slower period.\"\"\"\n",
        "    elif customer_type == 'Couples':\n",
        "        text = f\"\"\"As an expert email marketer, craft a compelling email targeting couples to promote our hotel during the dates of {date_strings}. These dates historically have lower-than-average occupancy. Highlight the following hotel features: {hotel_feat}. Develop attractive offers to boost bookings, incorporating any relevant local holidays or events to increase occupancy during this traditionally slower period.\"\"\"\n",
        "    elif customer_type == 'Business Meet':\n",
        "        text = f\"\"\"As an expert email marketer, craft a compelling email promoting a business meeting at our hotel. Highlight these features: {hotel_feat}. To increase occupancy during historically low booking periods ({date_strings}), develop attractive offers. Consider incorporating any relevant local holidays or events to further incentivize bookings. The goal is to achieve higher occupancy rates during these slower times.\"\"\"\n",
        "\n",
        "    response = generate(text)\n",
        "    return response\n",
        "\n",
        "# Function to create social media post\n",
        "def create_social_media_post(customer_type):\n",
        "    # Generate a forecast for the next 31 days\n",
        "    forecast = model.make_future_dataframe(periods=31)\n",
        "    pred = model.predict(forecast)\n",
        "    #print(pred)\n",
        "\n",
        "\n",
        "    pred_avrg_rooms = sum(pred['yhat'][-31:]) / len(pred['yhat'][-31:])\n",
        "    #print(pred_avrg_rooms)\n",
        "    avrg_percentage = (pred_avrg_rooms - average_rooms_bkd) / average_rooms_bkd\n",
        "    #print(avrg_percentage)\n",
        "\n",
        "    # Identify dates with lower-than-average bookings\n",
        "    less_booking = pred['ds'][-31:][pred['yhat'][-31:] < 36.5].tolist()\n",
        "    date_strings = [ts.strftime('%Y-%m-%d') for ts in less_booking]\n",
        "\n",
        "    if customer_type == 'Family':\n",
        "        text = f\"\"\"You are expert in creating an engaging social media post. craft an engaging social media post targeting families, highlighting the following hotel features: {hotel_feat}. The dates {date_strings} have historically shown below-average booking rates. Develop attractive offers and highlight these dates to boost occupancy, incorporating any relevant local holidays or events.\"\"\"\n",
        "    elif customer_type == 'Couples':\n",
        "        text = f\"\"\"You are expert in creating an engaging social media post. craft an engaging social media post targeting Couples, highlighting the following hotel features: {hotel_feat}. The dates {date_strings} have historically shown below-average booking rates. Develop attractive offers and highlight these dates to boost occupancy, incorporating any relevant local holidays or events.\"\"\"\n",
        "    elif customer_type == 'Business Meet':\n",
        "        text = f\"\"\"You are expert in creating an engaging social media post. craft an engaging social media post targeting Business Meetings, highlighting the following hotel features: {hotel_feat}. The dates {date_strings} have historically shown below-average booking rates. Develop attractive offers and highlight these dates to boost occupancy, incorporating any relevant local holidays or events.\"\"\"\n",
        "\n",
        "    response = generate(text)\n",
        "    return response\n",
        "\n",
        "# Define customer types\n",
        "customer_types = [\"Family\", \"Couples\", \"Business Meet\"]\n",
        "\n",
        "# Create Gradio interface\n",
        "with gr.Blocks() as demo:\n",
        "    # Dropdown menu for selecting the customer type\n",
        "    customer_type = gr.Dropdown(choices=customer_types, label=\"Customer Type\")\n",
        "\n",
        "    with gr.Row():\n",
        "        # Button to generate the email campaign\n",
        "        email_button = gr.Button(\"Generate Email Campaign\")\n",
        "        social_media_button = gr.Button(\"Generate Social Media Post\")\n",
        "\n",
        "    #Textbox to display the generated email campaign and social media post\n",
        "    email_output = gr.Textbox(label=\"Email Campaign\")\n",
        "    social_media_output = gr.Textbox(label=\"Social Media Post\")\n",
        "\n",
        "    # Link the email button to the create_email_campaign function\n",
        "    email_button.click(fn=create_email_campaign, inputs=customer_type, outputs=email_output)\n",
        "\n",
        "    # Link the social media button to the create_social_media_post function\n",
        "    social_media_button.click(fn=create_social_media_post, inputs=customer_type, outputs=social_media_output)\n",
        "\n",
        "# Launch the interface\n",
        "demo.launch(debug=True)\n"
      ],
      "metadata": {
        "id": "Fe3gZdmHWxy9",
        "collapsed": true
      },
      "id": "Fe3gZdmHWxy9",
      "execution_count": null,
      "outputs": []
    },
    {
      "cell_type": "code",
      "source": [],
      "metadata": {
        "id": "1p4cdouvXKQS"
      },
      "id": "1p4cdouvXKQS",
      "execution_count": null,
      "outputs": []
    }
  ],
  "metadata": {
    "kernelspec": {
      "display_name": "Python 3",
      "language": "python",
      "name": "python3"
    },
    "language_info": {
      "codemirror_mode": {
        "name": "ipython",
        "version": 3
      },
      "file_extension": ".py",
      "mimetype": "text/x-python",
      "name": "python",
      "nbconvert_exporter": "python",
      "pygments_lexer": "ipython3",
      "version": "3.10.10"
    },
    "colab": {
      "provenance": [],
      "name": "content_generation_hotel-booking-demand.ipynb"
    }
  },
  "nbformat": 4,
  "nbformat_minor": 5
}